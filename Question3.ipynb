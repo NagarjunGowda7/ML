{
 "cells": [
  {
   "cell_type": "code",
   "execution_count": 18,
   "id": "9b5a1031",
   "metadata": {},
   "outputs": [],
   "source": [
    "import pandas as pd\n",
    "from sklearn.model_selection import train_test_split\n",
    "from sklearn.preprocessing import LabelEncoder\n",
    "from sklearn.tree import DecisionTreeClassifier\n",
    "from sklearn.ensemble import RandomForestClassifier\n",
    "from sklearn.naive_bayes import MultinomialNB\n",
    "from sklearn.linear_model import LogisticRegression\n",
    "from sklearn.svm import SVC\n",
    "from sklearn.neighbors import KNeighborsClassifier\n",
    "from sklearn.metrics import accuracy_score"
   ]
  },
  {
   "cell_type": "code",
   "execution_count": 2,
   "id": "6929a789",
   "metadata": {},
   "outputs": [],
   "source": [
    "data = pd.read_csv('cybersecurity_attacks.csv')\n"
   ]
  },
  {
   "cell_type": "markdown",
   "id": "c9f62ca8",
   "metadata": {},
   "source": [
    "# Drop columns that cannot be directly used for modeling\n"
   ]
  },
  {
   "cell_type": "code",
   "execution_count": 3,
   "id": "2b4dd3fa",
   "metadata": {},
   "outputs": [],
   "source": [
    "data.drop(['Timestamp', 'Source IP Address', 'Destination IP Address', 'Payload Data'], axis=1, inplace=True)\n"
   ]
  },
  {
   "cell_type": "markdown",
   "id": "ae09f7b9",
   "metadata": {},
   "source": [
    "# Preprocess the data"
   ]
  },
  {
   "cell_type": "code",
   "execution_count": 4,
   "id": "07eefb16",
   "metadata": {},
   "outputs": [],
   "source": [
    "label_encoder = LabelEncoder()\n"
   ]
  },
  {
   "cell_type": "markdown",
   "id": "9222f63f",
   "metadata": {},
   "source": [
    "# Encode categorical columns"
   ]
  },
  {
   "cell_type": "code",
   "execution_count": 7,
   "id": "c61fe89a",
   "metadata": {},
   "outputs": [],
   "source": [
    "categorical_columns = ['Protocol', 'Packet Type', 'Traffic Type', 'Malware Indicators', 'Alerts/Warnings',\n",
    "                       'Attack Type', 'Attack Signature', 'Action Taken', 'Severity Level',\n",
    "                       'User Information', 'Device Information', 'Network Segment', 'Geo-location Data',\n",
    "                       'Proxy Information', 'Firewall Logs', 'IDS/IPS Alerts', 'Log Source']"
   ]
  },
  {
   "cell_type": "code",
   "execution_count": 8,
   "id": "775ee53e",
   "metadata": {},
   "outputs": [],
   "source": [
    "for column in categorical_columns:\n",
    "    data[column] = label_encoder.fit_transform(data[column])"
   ]
  },
  {
   "cell_type": "markdown",
   "id": "1f9a74b8",
   "metadata": {},
   "source": [
    "# Split the data into features (X) and target (y)\n"
   ]
  },
  {
   "cell_type": "code",
   "execution_count": null,
   "id": "d6bc0230",
   "metadata": {},
   "outputs": [],
   "source": [
    "X = data.drop('Attack Type', axis=1)\n",
    "y = data['Attack Type']"
   ]
  },
  {
   "cell_type": "markdown",
   "id": "55887b36",
   "metadata": {},
   "source": [
    "# Split the data into training and testing sets\n"
   ]
  },
  {
   "cell_type": "code",
   "execution_count": 10,
   "id": "ae1fa1c0",
   "metadata": {},
   "outputs": [],
   "source": [
    "X_train, X_test, y_train, y_test = train_test_split(X, y, test_size=0.2, random_state=42)\n"
   ]
  },
  {
   "cell_type": "markdown",
   "id": "eb2ed262",
   "metadata": {},
   "source": [
    "# Algorithms :"
   ]
  },
  {
   "cell_type": "markdown",
   "id": "6353a168",
   "metadata": {},
   "source": [
    "1. Logistic Regression: "
   ]
  },
  {
   "cell_type": "code",
   "execution_count": 11,
   "id": "ad15057d",
   "metadata": {},
   "outputs": [
    {
     "name": "stdout",
     "output_type": "stream",
     "text": [
      "Logistic Regression Accuracy: 0.331625\n"
     ]
    }
   ],
   "source": [
    "logistic_model = LogisticRegression()\n",
    "logistic_model.fit(X_train, y_train)\n",
    "y_pred = logistic_model.predict(X_test)\n",
    "\n",
    "accuracy = accuracy_score(y_test, y_pred)\n",
    "print(f'Logistic Regression Accuracy: {accuracy}')"
   ]
  },
  {
   "cell_type": "markdown",
   "id": "abba110a",
   "metadata": {},
   "source": [
    "2. Decision Tree:"
   ]
  },
  {
   "cell_type": "code",
   "execution_count": 12,
   "id": "20160b9e",
   "metadata": {},
   "outputs": [
    {
     "name": "stdout",
     "output_type": "stream",
     "text": [
      "Decision Tree Accuracy: 0.329\n"
     ]
    }
   ],
   "source": [
    "from sklearn.tree import DecisionTreeClassifier\n",
    "\n",
    "decision_tree = DecisionTreeClassifier()\n",
    "decision_tree.fit(X_train, y_train)\n",
    "y_pred = decision_tree.predict(X_test)\n",
    "\n",
    "accuracy = accuracy_score(y_test, y_pred)\n",
    "print(f'Decision Tree Accuracy: {accuracy}')\n"
   ]
  },
  {
   "cell_type": "markdown",
   "id": "2dc9010a",
   "metadata": {},
   "source": [
    "3. Random Forest:"
   ]
  },
  {
   "cell_type": "code",
   "execution_count": 13,
   "id": "cd79a63c",
   "metadata": {},
   "outputs": [
    {
     "name": "stdout",
     "output_type": "stream",
     "text": [
      "Random Forest Accuracy: 0.32575\n"
     ]
    }
   ],
   "source": [
    "from sklearn.ensemble import RandomForestClassifier\n",
    "\n",
    "random_forest = RandomForestClassifier()\n",
    "random_forest.fit(X_train, y_train)\n",
    "y_pred = random_forest.predict(X_test)\n",
    "\n",
    "accuracy = accuracy_score(y_test, y_pred)\n",
    "print(f'Random Forest Accuracy: {accuracy}')\n"
   ]
  },
  {
   "cell_type": "markdown",
   "id": "8e7ebf71",
   "metadata": {},
   "source": [
    "4. Support Vector Machine (SVM):"
   ]
  },
  {
   "cell_type": "code",
   "execution_count": 14,
   "id": "e6b3082e",
   "metadata": {},
   "outputs": [
    {
     "name": "stdout",
     "output_type": "stream",
     "text": [
      "SVM Accuracy: 0.336375\n"
     ]
    }
   ],
   "source": [
    "from sklearn.svm import SVC\n",
    "\n",
    "svm = SVC()\n",
    "svm.fit(X_train, y_train)\n",
    "y_pred = svm.predict(X_test)\n",
    "\n",
    "accuracy = accuracy_score(y_test, y_pred)\n",
    "print(f'SVM Accuracy: {accuracy}')\n"
   ]
  },
  {
   "cell_type": "markdown",
   "id": "7eae1534",
   "metadata": {},
   "source": [
    "5. Naive Bayes:"
   ]
  },
  {
   "cell_type": "code",
   "execution_count": 19,
   "id": "f6b5a11f",
   "metadata": {},
   "outputs": [
    {
     "name": "stdout",
     "output_type": "stream",
     "text": [
      "MultinomialNB Accuracy: 0.3295\n"
     ]
    }
   ],
   "source": [
    "from sklearn.naive_bayes import MultinomialNB\n",
    "model = MultinomialNB()\n",
    "model.fit(X_train, y_train)\n",
    "y_pred = model.predict(X_test)\n",
    "accuracy = accuracy_score(y_test, y_pred)\n",
    "print(f'MultinomialNB Accuracy: {accuracy}')\n",
    "\n",
    "\n"
   ]
  }
 ],
 "metadata": {
  "kernelspec": {
   "display_name": "Python 3 (ipykernel)",
   "language": "python",
   "name": "python3"
  },
  "language_info": {
   "codemirror_mode": {
    "name": "ipython",
    "version": 3
   },
   "file_extension": ".py",
   "mimetype": "text/x-python",
   "name": "python",
   "nbconvert_exporter": "python",
   "pygments_lexer": "ipython3",
   "version": "3.11.4"
  }
 },
 "nbformat": 4,
 "nbformat_minor": 5
}
